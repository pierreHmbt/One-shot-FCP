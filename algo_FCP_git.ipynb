{
 "cells": [
  {
   "cell_type": "code",
   "execution_count": 1,
   "id": "68ce00dd",
   "metadata": {},
   "outputs": [],
   "source": [
    "import numpy as np\n",
    "import scipy.special as sc\n",
    "import scipy.integrate as integrate\n",
    "from scipy.optimize import fsolve\n",
    "\n",
    "import matplotlib\n",
    "import matplotlib.pyplot as plt\n",
    "matplotlib.rcParams.update({'font.size': 13})\n",
    "matplotlib.rc('xtick', labelsize=13)\n",
    "matplotlib.rc('ytick', labelsize=13)"
   ]
  },
  {
   "cell_type": "code",
   "execution_count": 2,
   "id": "7f10dc5b",
   "metadata": {},
   "outputs": [],
   "source": [
    "# Quick search in an ordered matrix\n",
    "def FastSearch_kl(m, n, target):\n",
    "    row = 0\n",
    "    col = m - 1\n",
    "\n",
    "    # Traverse the matrix from (0, m-1):\n",
    "    E = []\n",
    "    while row < n and col >= 0:\n",
    "        l = row+1\n",
    "        k = col+1\n",
    "        def G(x):\n",
    "            return sc.betainc(k, m-k+1, sc.betainc(l, n-l+1, x))\n",
    "        temp = 1-integrate.quad(G, 0, 1)[0]\n",
    "        if temp < target:\n",
    "            row += 1\n",
    "        else:\n",
    "            col -= 1\n",
    "        E.append((temp, k, l))\n",
    "    return np.array(E)\n",
    "\n",
    "# Name of the algorithms\n",
    "Algo1 = '$\\\\bf{QQM}$'\n",
    "Algo2 = '$\\\\bf{QQM}$-$\\\\bf{Fast}$'\n",
    "Algo3 = '$\\\\bf{QQC}$'\n",
    "Algo4 = '$\\\\bf{QQC}$-$\\\\bf{Fast}$'\n",
    "Algo5 = '$\\\\bf{QQM}$-$\\\\bf{n_j}$'\n",
    "Algo6 = '$\\\\bf{QQC}$-$\\\\bf{n_j}$'\n",
    "AlgoMNM = '$\\\\bf{QQM}$-$\\\\bf{(N/m)}$'\n",
    "AlgoCNM = '$\\\\bf{QQC}$-$\\\\bf{(N/m)}$'"
   ]
  },
  {
   "cell_type": "code",
   "execution_count": 8,
   "id": "a58dfb6c",
   "metadata": {},
   "outputs": [],
   "source": [
    "m = 20\n",
    "n = 200\n",
    "\n",
    "alpha = .1\n",
    "beta = .2"
   ]
  },
  {
   "cell_type": "code",
   "execution_count": 9,
   "id": "b4c18c9c",
   "metadata": {},
   "outputs": [
    {
     "name": "stdout",
     "output_type": "stream",
     "text": [
      "8 182\n",
      "12 180\n"
     ]
    }
   ],
   "source": [
    "# ============================= Fast approximation of Algo 1\n",
    "E = FastSearch_kl(m, n, 1-alpha)\n",
    "\n",
    "vv = min(i for i in E[:, 0] if i >= (1-alpha))\n",
    "ind = np.where(E[:, 0] == vv)\n",
    "k_A, l_A = int(E[ind, 1]), int(E[ind, 2])\n",
    "\n",
    "print(k_A, l_A)\n",
    "\n",
    "# ============================= Algo 2\n",
    "M_k = np.zeros((n)) + 1\n",
    "for l in np.arange(n, 0, -1):\n",
    "    k_temp = int(np.ceil( (m+1/2)*( sc.betainc(l, n-l+1, 1-alpha)) + 1/2))\n",
    "    if k_temp > m:\n",
    "        break\n",
    "    M_k[l-1] = sc.betaincinv(l, n-l+1, (k_temp)/(m+1/2))\n",
    "    \n",
    "l_AA = np.argmin(M_k)+1\n",
    "k_AA = int(np.ceil( (m+1/2)*( sc.betainc(l_AA, n-l_AA+1, 1-alpha)) + 1/2))\n",
    "print(k_AA, l_AA)"
   ]
  },
  {
   "cell_type": "code",
   "execution_count": 10,
   "id": "e020d797",
   "metadata": {},
   "outputs": [
    {
     "name": "stdout",
     "output_type": "stream",
     "text": [
      "8 183 0.9003599786978574 0.8160005263233576\n",
      "10 183 0.9151944560073725 0.9657631728643075\n"
     ]
    }
   ],
   "source": [
    "# ============================= Algo 3\n",
    "M = np.zeros((m, n))\n",
    "M2 = np.zeros((m, n))\n",
    "for k in range(1, m+1):\n",
    "    for l in range(1, n+1):\n",
    "        M[k-1, l-1] = sc.betaincinv(l, n-l+1, sc.betaincinv(k, m-k+1, beta))\n",
    "        M2[k-1, l-1] = sc.betaincinv(l, n-l+1, sc.betaincinv(k, m-k+1, 1-beta))\n",
    "\n",
    "aa_r = np.ravel(M)\n",
    "ind = np.where(aa_r >= 1-alpha)\n",
    "aa_r2 = np.ravel(M2)[ind]\n",
    "v = np.min(aa_r2)\n",
    "k_M = int(np.where(M2 == v)[0])+1\n",
    "l_M = int(np.where(M2 == v)[1])+1\n",
    "\n",
    "print(k_M, l_M, M[k_M-1, l_M-1], 1-sc.betainc(k_M, m-k_M+1, sc.betainc(l_M, n-l_M+1, 1-alpha)))\n",
    "\n",
    "# ============================= Algo 4\n",
    "M_k = np.zeros((n))\n",
    "for l in range(1, n+1):\n",
    "    k_temp = int(np.ceil( (m+1)*( sc.betainc(l, n-l+1, 1-alpha) + np.sqrt(np.log(1/beta)/(2*(m+2))) ) ))\n",
    "    M_k[l-1] = sc.betaincinv(l, n-l+1, sc.betaincinv(k_temp, m-k_temp+1, 1-beta))\n",
    "    \n",
    "v = min(i for i in M_k if i > (1-alpha))\n",
    "l_e = int(np.where(M_k == v)[0])+1\n",
    "ktilde = int(np.ceil( (m+1)*( sc.betainc(l_e, n-l_e+1, 1-alpha) + np.sqrt(np.log(1/beta)/(2*(m+2))) ) ))\n",
    "\n",
    "print(ktilde, l_e, M_k[l_e-1], 1-sc.betainc(ktilde, m-ktilde+1, sc.betainc(l_e, n-l_e+1, 1-alpha)))"
   ]
  },
  {
   "cell_type": "code",
   "execution_count": 11,
   "id": "767f8f30",
   "metadata": {},
   "outputs": [
    {
     "name": "stdout",
     "output_type": "stream",
     "text": [
      "3601\n",
      "3617\n"
     ]
    }
   ],
   "source": [
    "# Centralized methods\n",
    "\n",
    "# Marginal\n",
    "r_a = int(np.ceil((1-alpha)*(m*n+1)))\n",
    "print(r_a)\n",
    "\n",
    "# Training-cond (Fast)\n",
    "f = lambda x: sc.betaincinv(x, m*n-x+1, beta)-(1-alpha)\n",
    "r_a_cond = int(np.ceil(fsolve(f, [m*n//2])))\n",
    "print(r_a_cond)"
   ]
  },
  {
   "cell_type": "code",
   "execution_count": 12,
   "id": "961cd2d0",
   "metadata": {},
   "outputs": [
    {
     "name": "stdout",
     "output_type": "stream",
     "text": [
      "0.9000249937515621 0.004741704252049965 0.8960543748198047 0.9040344744962789\n",
      "0.9001175378290897 0.006032457080785478 0.8950961264493389 0.9052249596132323\n",
      "0.9006975115636551 0.005847952879873682 0.8958048869614479 0.9056374421249155\n"
     ]
    },
    {
     "data": {
      "image/png": "[encoded data removed]",
      "text/plain": [
       "<Figure size 432x288 with 1 Axes>"
      ]
     },
     "metadata": {
      "needs_background": "light"
     },
     "output_type": "display_data"
    }
   ],
   "source": [
    "x = np.linspace(0.84, .95, 10000)\n",
    "\n",
    "# ========================\n",
    "# ========================\n",
    "y = sc.betainc(r_a, m*n-r_a+1, x)\n",
    "a = r_a; b = m*n-r_a+1\n",
    "bb1 = sc.betaincinv(r_a, m*n-r_a+1, beta)\n",
    "bb2 = sc.betaincinv(r_a, m*n-r_a+1, 1-beta)\n",
    "print( r_a/(m*n+1), np.sqrt(a*b / ((a+b)**2 * (a+b+1))), bb1, bb2)\n",
    "# ========================\n",
    "plt.plot(x, y, label='CentralM', color='C5', linewidth=2)\n",
    "plt.plot(r_a/(m*n+1), sc.betainc(r_a, m*n-r_a+1, r_a/(m*n+1)), 'o', color='C5')\n",
    "plt.scatter(bb1, sc.betainc(r_a, m*n-r_a+1, bb1), marker=\"x\", color='C5', linewidth=3)\n",
    "plt.scatter(bb2, sc.betainc(r_a, m*n-r_a+1, bb2), marker=\"x\", color='C5', linewidth=3)\n",
    "\n",
    "# ========================\n",
    "# ========================\n",
    "y = sc.betainc(k_A, m-k_A+1, sc.betainc(l_A, n-l_A+1, x))\n",
    "def G(x):\n",
    "    return sc.betainc(k_A, m-k_A+1, sc.betainc(l_A, n-l_A+1, x))\n",
    "mean = 1-integrate.quad(G, 0, 1)[0]\n",
    "def H(x):\n",
    "    return (1-sc.betainc(k_A, m-k_A+1, sc.betainc(l_A, n-l_A+1, x)))*x\n",
    "moment2 = integrate.quad(H, 0, 1)[0]\n",
    "bb1 = sc.betaincinv(l_A, n-l_A+1, sc.betaincinv(k_A, m-k_A+1, beta))\n",
    "bb2 = sc.betaincinv(l_A, n-l_A+1, sc.betaincinv(k_A, m-k_A+1, 1-beta))\n",
    "print(mean, np.sqrt(2*moment2-mean**2), bb1, bb2)\n",
    "# ========================\n",
    "plt.plot(x, y, label=Algo1, color='C0', linewidth=2)\n",
    "plt.plot(mean, G(mean), 'o', color='C0')\n",
    "plt.scatter(bb1, G(bb1), marker=\"x\", color='C0', linewidth=3)\n",
    "plt.scatter(bb2, G(bb2), marker=\"x\", color='C0', linewidth=3)\n",
    "\n",
    "# ========================\n",
    "# ========================\n",
    "y = sc.betainc(k_AA, m-k_AA+1, sc.betainc(l_AA, n-l_AA+1, x))\n",
    "def G(x):\n",
    "    return sc.betainc(k_AA, m-k_AA+1, sc.betainc(l_AA, n-l_AA+1, x))\n",
    "mean = 1-integrate.quad(G, 0, 1)[0]\n",
    "def H(x):\n",
    "    return (1-sc.betainc(k_AA, m-k_AA+1, sc.betainc(l_AA, n-l_AA+1, x)))*x\n",
    "moment2 = integrate.quad(H, 0, 1)[0]\n",
    "bb1 = sc.betaincinv(l_AA, n-l_AA+1, sc.betaincinv(k_AA, m-k_AA+1, beta))\n",
    "bb2 = sc.betaincinv(l_AA, n-l_AA+1, sc.betaincinv(k_AA, m-k_AA+1, 1-beta))\n",
    "print(mean, np.sqrt(2*moment2-mean**2), bb1, bb2)\n",
    "# ========================\n",
    "plt.plot(x, y, label=Algo2, color='C1', linewidth=2)\n",
    "plt.plot(mean, G(mean), 'o', color='C1')\n",
    "plt.scatter(bb1, G(bb1), marker=\"x\", color='C1', linewidth=3)\n",
    "plt.scatter(bb2, G(bb2), marker=\"x\", color='C1', linewidth=3)\n",
    "\n",
    "plt.yticks(np.linspace(0, 1, 11))\n",
    "plt.xlim((0.885, 0.915))\n",
    "plt.grid(alpha=.3)\n",
    "plt.xlabel('$t$')\n",
    "plt.ylabel('cdf')\n",
    "\n",
    "plt.legend(loc='upper left')\n",
    "plt.title('$(m, n)=(' + str(m) + ',' + str(n) + ')$', fontdict={'fontsize': 14});"
   ]
  },
  {
   "cell_type": "code",
   "execution_count": 13,
   "id": "bcf1f480",
   "metadata": {},
   "outputs": [
    {
     "name": "stdout",
     "output_type": "stream",
     "text": [
      "0.9040239940014996 0.004656212292337345 0.9001255793908608 0.9079616584314933\n",
      "0.9052643955359942 0.005893678133106854 0.9003599786978574 0.9102551383592526\n",
      "0.9104577769185345 0.0055984358188517465 0.905786883640705 0.9151944560073725\n"
     ]
    },
    {
     "data": {
      "image/png": "[encoded data removed]",
      "text/plain": [
       "<Figure size 432x288 with 1 Axes>"
      ]
     },
     "metadata": {
      "needs_background": "light"
     },
     "output_type": "display_data"
    }
   ],
   "source": [
    "# ========================\n",
    "# ========================\n",
    "y = sc.betainc(r_a_cond, m*n-r_a_cond+1, x)\n",
    "a = r_a_cond; b = m*n-r_a_cond+1\n",
    "bb1 = sc.betaincinv(r_a_cond, m*n-r_a_cond+1, beta)\n",
    "bb2 = sc.betaincinv(r_a_cond, m*n-r_a_cond+1, 1-beta)\n",
    "print( r_a_cond/(m*n+1), np.sqrt(a*b / ((a+b)**2 * (a+b+1))), bb1, bb2)\n",
    "# ========================\n",
    "plt.plot(x, y, label='CentralC', color='C4', linewidth=2)\n",
    "plt.plot(r_a_cond/(m*n+1), sc.betainc(r_a_cond, m*n-r_a_cond+1, r_a_cond/(m*n+1)), 'o', color='C4')\n",
    "plt.scatter(bb1, sc.betainc(r_a_cond, m*n-r_a_cond+1, bb1), marker=\"x\", color='C4', linewidth=3)\n",
    "plt.scatter(bb2, sc.betainc(r_a_cond, m*n-r_a_cond+1, bb2), marker=\"x\", color='C4', linewidth=3)\n",
    "\n",
    "# ========================\n",
    "# ========================\n",
    "y = sc.betainc(k_M, m-k_M+1, sc.betainc(l_M, n-l_M+1, x))\n",
    "def G(x):\n",
    "    return sc.betainc(k_M, m-k_M+1, sc.betainc(l_M, n-l_M+1, x))\n",
    "mean = 1-integrate.quad(G, 0, 1)[0]\n",
    "def H(x):\n",
    "    return (1-sc.betainc(k_M, m-k_M+1, sc.betainc(l_M, n-l_M+1, x)))*x\n",
    "moment2 = integrate.quad(H, 0, 1)[0]\n",
    "bb1 = sc.betaincinv(l_M, n-l_M+1, sc.betaincinv(k_M, m-k_M+1, beta))\n",
    "bb2 = sc.betaincinv(l_M, n-l_M+1, sc.betaincinv(k_M, m-k_M+1, 1-beta))\n",
    "print(mean, np.sqrt(2*moment2-mean**2), bb1, bb2)\n",
    "# ========================\n",
    "plt.plot(x, y, label=Algo3, color='C2', linewidth=2)\n",
    "plt.plot(mean, G(mean), 'o', color='C2')\n",
    "plt.scatter(bb1, G(bb1), marker=\"x\", color='C2', linewidth=3)\n",
    "plt.scatter(bb2, G(bb2), marker=\"x\", color='C2', linewidth=3)\n",
    "\n",
    "# ========================\n",
    "# ========================\n",
    "y = sc.betainc(ktilde, m-ktilde+1, sc.betainc(l_e, n-l_e+1, x))\n",
    "def G(x):\n",
    "    return sc.betainc(ktilde, m-ktilde+1, sc.betainc(l_e, n-l_e+1, x))\n",
    "mean = 1-integrate.quad(G, 0, 1)[0]\n",
    "def H(x):\n",
    "    return (1-sc.betainc(ktilde, m-ktilde+1, sc.betainc(l_e, n-l_e+1, x)))*x\n",
    "moment2 = integrate.quad(H, 0, 1)[0]\n",
    "bb1 = sc.betaincinv(l_e, n-l_e+1, sc.betaincinv(ktilde, m-ktilde+1, beta))\n",
    "bb2 = sc.betaincinv(l_e, n-l_e+1, sc.betaincinv(ktilde, m-ktilde+1, 1-beta))\n",
    "print(mean, np.sqrt(2*moment2-mean**2), bb1, bb2)\n",
    "# ========================\n",
    "plt.plot(x, y, label=Algo4, color='C3', linewidth=2)\n",
    "plt.plot(mean, G(mean), 'o', color='C3')\n",
    "plt.scatter(bb1, G(bb1), marker=\"x\", color='C3', linewidth=3)\n",
    "plt.scatter(bb2, G(bb2), marker=\"x\", color='C3', linewidth=3)\n",
    "\n",
    "plt.yticks(np.linspace(0, 1, 11))\n",
    "plt.xlim((0.89, 0.925))\n",
    "plt.grid(alpha=.3)\n",
    "plt.xlabel('$t$')\n",
    "plt.ylabel('cdf')\n",
    "\n",
    "plt.legend(loc='upper left')\n",
    "plt.title('$(m, n)=(' + str(m) + ',' + str(n) + ')$', fontdict={'fontsize': 14});"
   ]
  },
  {
   "cell_type": "code",
   "execution_count": null,
   "id": "5462dfa6",
   "metadata": {},
   "outputs": [],
   "source": []
  }
 ],
 "metadata": {
  "kernelspec": {
   "display_name": "Python 3",
   "language": "python",
   "name": "python3"
  },
  "language_info": {
   "codemirror_mode": {
    "name": "ipython",
    "version": 3
   },
   "file_extension": ".py",
   "mimetype": "text/x-python",
   "name": "python",
   "nbconvert_exporter": "python",
   "pygments_lexer": "ipython3",
   "version": "3.5.2"
  }
 },
 "nbformat": 4,
 "nbformat_minor": 5
}
